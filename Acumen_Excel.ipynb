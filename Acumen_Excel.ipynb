{
 "cells": [
  {
   "cell_type": "code",
   "execution_count": null,
   "metadata": {
    "collapsed": true
   },
   "outputs": [],
   "source": [
    "import pandas as pd\n",
    "import numpy as np"
   ]
  },
  {
   "cell_type": "code",
   "execution_count": null,
   "metadata": {
    "collapsed": true
   },
   "outputs": [],
   "source": [
    "data = pd.read_csv(\"Acumen_data.csv\")"
   ]
  },
  {
   "cell_type": "code",
   "execution_count": null,
   "metadata": {
    "collapsed": false
   },
   "outputs": [],
   "source": [
    "data.head()"
   ]
  },
  {
   "cell_type": "code",
   "execution_count": null,
   "metadata": {
    "collapsed": false
   },
   "outputs": [],
   "source": [
    "import re\n",
    "for index, row in data.iterrows():\n",
    "    data.loc[index, \"Salary\"] = int(re.sub(r'[^\\w]', '', row.Salary))"
   ]
  },
  {
   "cell_type": "code",
   "execution_count": null,
   "metadata": {
    "collapsed": false
   },
   "outputs": [],
   "source": [
    "data.head()"
   ]
  },
  {
   "cell_type": "code",
   "execution_count": null,
   "metadata": {
    "collapsed": false
   },
   "outputs": [],
   "source": [
    "data[\"Health Score\"].value_counts()\n",
    "# There are a lot of Health Scores that are 10, which suggests that they are unavailable."
   ]
  },
  {
   "cell_type": "code",
   "execution_count": null,
   "metadata": {
    "collapsed": false
   },
   "outputs": [],
   "source": [
    "# Remove all points that have a Health Score > 6\n",
    "data = data[data[\"Health Score\"] <= 6]"
   ]
  },
  {
   "cell_type": "code",
   "execution_count": null,
   "metadata": {
    "collapsed": false
   },
   "outputs": [],
   "source": [
    "data.Age.value_counts()"
   ]
  },
  {
   "cell_type": "code",
   "execution_count": null,
   "metadata": {
    "collapsed": true
   },
   "outputs": [],
   "source": [
    "# Only keep people that are below 100\n",
    "data = data[data.Age <= 100]"
   ]
  },
  {
   "cell_type": "code",
   "execution_count": null,
   "metadata": {
    "collapsed": true
   },
   "outputs": [],
   "source": [
    "# Only keep people above the age of 18\n",
    "data = data[data.Age >= 18]"
   ]
  },
  {
   "cell_type": "code",
   "execution_count": null,
   "metadata": {
    "collapsed": false
   },
   "outputs": [],
   "source": [
    "data.Race.isnull().value_counts()"
   ]
  },
  {
   "cell_type": "code",
   "execution_count": null,
   "metadata": {
    "collapsed": true
   },
   "outputs": [],
   "source": [
    "# Output the new data into \"Clean_data.csv\"\n",
    "data.to_csv(\"Clean_data.csv\", unicode = 'utf-8')"
   ]
  },
  {
   "cell_type": "code",
   "execution_count": null,
   "metadata": {
    "collapsed": false
   },
   "outputs": [],
   "source": [
    "data1 = data[data.Quarter == 1]\n",
    "data2 = data[data.Quarter == 2]\n",
    "data3 = data[data.Quarter == 3]\n",
    "data4 = data[data.Quarter == 4]\n",
    "data5 = data[data.Quarter == 5]\n",
    "data6 = data[data.Quarter == 6]\n",
    "data7 = data[data.Quarter == 7]\n",
    "data8 = data[data.Quarter == 8]\n",
    "data9 = data[data.Quarter == 9]\n",
    "data10 = data[data.Quarter == 10]\n",
    "data11 = data[data.Quarter == 11]\n",
    "data12 = data[data.Quarter == 12]"
   ]
  },
  {
   "cell_type": "code",
   "execution_count": null,
   "metadata": {
    "collapsed": false
   },
   "outputs": [],
   "source": [
    "data1.Race.value_counts()"
   ]
  },
  {
   "cell_type": "code",
   "execution_count": null,
   "metadata": {
    "collapsed": false
   },
   "outputs": [],
   "source": [
    "# Finds a lot of the mean and median statistic for each quarter\n",
    "\n",
    "print data1.Age.mean()\n",
    "print data1.Age.median()\n",
    "print data1.Hospital_V.mean()\n",
    "print data1.Hospital_V.median()\n",
    "print data1.Salary.mean()\n",
    "print data1.Salary.median()\n",
    "print data1[\"Health Score\"].mean()\n",
    "print data1[\"Health Score\"].median()"
   ]
  },
  {
   "cell_type": "code",
   "execution_count": null,
   "metadata": {
    "collapsed": false
   },
   "outputs": [],
   "source": [
    "# Finds the Sex and Race number for each quarter\n",
    "\n",
    "print data1.Sex.value_counts()\n",
    "print data1.Race.value_counts()\n",
    "print data1.Race.isnull().value_counts()"
   ]
  },
  {
   "cell_type": "code",
   "execution_count": null,
   "metadata": {
    "collapsed": false
   },
   "outputs": [],
   "source": [
    "print data1[\"Health Score\"].mean()\n",
    "print data1[\"Health Score\"].std()\n",
    "\n",
    "print data12[\"Health Score\"].mean()\n",
    "print data12[\"Health Score\"].std()"
   ]
  },
  {
   "cell_type": "code",
   "execution_count": null,
   "metadata": {
    "collapsed": true
   },
   "outputs": [],
   "source": [
    "# Outputs only the Quarter 1 and Quarter 12 data, each seperately. Used for t-test\n",
    "\n",
    "data1.to_csv(\"data1.csv\", unicode = 'utf-8')\n",
    "data12.to_csv(\"data12.csv\", unicode = 'utf-8')"
   ]
  },
  {
   "cell_type": "code",
   "execution_count": null,
   "metadata": {
    "collapsed": true
   },
   "outputs": [],
   "source": []
  }
 ],
 "metadata": {
  "kernelspec": {
   "display_name": "Python 2",
   "language": "python",
   "name": "python2"
  },
  "language_info": {
   "codemirror_mode": {
    "name": "ipython",
    "version": 2
   },
   "file_extension": ".py",
   "mimetype": "text/x-python",
   "name": "python",
   "nbconvert_exporter": "python",
   "pygments_lexer": "ipython2",
   "version": "2.7.11"
  }
 },
 "nbformat": 4,
 "nbformat_minor": 0
}
